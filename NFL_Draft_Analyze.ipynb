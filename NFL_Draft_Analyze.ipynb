{
 "cells": [
  {
   "cell_type": "code",
   "execution_count": 34,
   "metadata": {
    "collapsed": true
   },
   "outputs": [],
   "source": [
    "import pandas as pd\n",
    "import pickle\n",
    "import seaborn as sns\n",
    "import matplotlib.pyplot as plt\n",
    "%matplotlib inline"
   ]
  },
  {
   "cell_type": "code",
   "execution_count": 24,
   "metadata": {
    "collapsed": false
   },
   "outputs": [],
   "source": [
    "with open(\"../data/2015_draft\",'r') as f:\n",
    "    player_data = pickle.load(f)\n",
    "df = pd.DataFrame(player_data[1:], columns=player_data[0])"
   ]
  },
  {
   "cell_type": "code",
   "execution_count": 25,
   "metadata": {
    "collapsed": true
   },
   "outputs": [],
   "source": [
    "df = df.convert_objects(convert_numeric=True)"
   ]
  },
  {
   "cell_type": "code",
   "execution_count": 26,
   "metadata": {
    "collapsed": false
   },
   "outputs": [
    {
     "data": {
      "text/html": [
       "<div style=\"max-height:1000px;max-width:1500px;overflow:auto;\">\n",
       "<table border=\"1\" class=\"dataframe\">\n",
       "  <thead>\n",
       "    <tr style=\"text-align: right;\">\n",
       "      <th></th>\n",
       "      <th>Rnd</th>\n",
       "      <th>Pick</th>\n",
       "      <th>Tm</th>\n",
       "      <th>Name</th>\n",
       "      <th>Pos</th>\n",
       "      <th>Age</th>\n",
       "      <th>To</th>\n",
       "      <th>AP1</th>\n",
       "      <th>PB</th>\n",
       "      <th>St</th>\n",
       "      <th>...</th>\n",
       "      <th>TD</th>\n",
       "      <th>Rec</th>\n",
       "      <th>Yds</th>\n",
       "      <th>TD</th>\n",
       "      <th>Tkl</th>\n",
       "      <th>Int</th>\n",
       "      <th>Sk</th>\n",
       "      <th>College/Univ</th>\n",
       "      <th>College_Stats</th>\n",
       "      <th>year</th>\n",
       "    </tr>\n",
       "  </thead>\n",
       "  <tbody>\n",
       "    <tr>\n",
       "      <th>0</th>\n",
       "      <td>1</td>\n",
       "      <td>1</td>\n",
       "      <td>CLE</td>\n",
       "      <td>Courtney Brown</td>\n",
       "      <td>DE</td>\n",
       "      <td>22</td>\n",
       "      <td>2005</td>\n",
       "      <td>0</td>\n",
       "      <td>0</td>\n",
       "      <td>4</td>\n",
       "      <td>...</td>\n",
       "      <td>NaN</td>\n",
       "      <td>NaN</td>\n",
       "      <td>NaN</td>\n",
       "      <td>NaN</td>\n",
       "      <td>155</td>\n",
       "      <td>NaN</td>\n",
       "      <td>19.0</td>\n",
       "      <td>Penn St.</td>\n",
       "      <td>College Stats</td>\n",
       "      <td>2000</td>\n",
       "    </tr>\n",
       "    <tr>\n",
       "      <th>1</th>\n",
       "      <td>1</td>\n",
       "      <td>2</td>\n",
       "      <td>WAS</td>\n",
       "      <td>LaVar Arrington</td>\n",
       "      <td>LB</td>\n",
       "      <td>22</td>\n",
       "      <td>2006</td>\n",
       "      <td>0</td>\n",
       "      <td>3</td>\n",
       "      <td>5</td>\n",
       "      <td>...</td>\n",
       "      <td>NaN</td>\n",
       "      <td>NaN</td>\n",
       "      <td>NaN</td>\n",
       "      <td>NaN</td>\n",
       "      <td>331</td>\n",
       "      <td>3</td>\n",
       "      <td>23.5</td>\n",
       "      <td>Penn St.</td>\n",
       "      <td>College Stats</td>\n",
       "      <td>2000</td>\n",
       "    </tr>\n",
       "    <tr>\n",
       "      <th>2</th>\n",
       "      <td>1</td>\n",
       "      <td>3</td>\n",
       "      <td>WAS</td>\n",
       "      <td>Chris Samuels</td>\n",
       "      <td>T</td>\n",
       "      <td>23</td>\n",
       "      <td>2009</td>\n",
       "      <td>0</td>\n",
       "      <td>6</td>\n",
       "      <td>9</td>\n",
       "      <td>...</td>\n",
       "      <td>NaN</td>\n",
       "      <td>NaN</td>\n",
       "      <td>NaN</td>\n",
       "      <td>NaN</td>\n",
       "      <td>1</td>\n",
       "      <td>NaN</td>\n",
       "      <td>NaN</td>\n",
       "      <td>Alabama</td>\n",
       "      <td>College Stats</td>\n",
       "      <td>2000</td>\n",
       "    </tr>\n",
       "    <tr>\n",
       "      <th>3</th>\n",
       "      <td>1</td>\n",
       "      <td>4</td>\n",
       "      <td>CIN</td>\n",
       "      <td>Peter Warrick</td>\n",
       "      <td>WR</td>\n",
       "      <td>23</td>\n",
       "      <td>2005</td>\n",
       "      <td>0</td>\n",
       "      <td>0</td>\n",
       "      <td>4</td>\n",
       "      <td>...</td>\n",
       "      <td>2</td>\n",
       "      <td>275</td>\n",
       "      <td>2991</td>\n",
       "      <td>18</td>\n",
       "      <td>12</td>\n",
       "      <td>NaN</td>\n",
       "      <td>NaN</td>\n",
       "      <td>Florida St.</td>\n",
       "      <td>College Stats</td>\n",
       "      <td>2000</td>\n",
       "    </tr>\n",
       "    <tr>\n",
       "      <th>4</th>\n",
       "      <td>1</td>\n",
       "      <td>5</td>\n",
       "      <td>BAL</td>\n",
       "      <td>Jamal Lewis</td>\n",
       "      <td>RB</td>\n",
       "      <td>21</td>\n",
       "      <td>2009</td>\n",
       "      <td>1</td>\n",
       "      <td>1</td>\n",
       "      <td>9</td>\n",
       "      <td>...</td>\n",
       "      <td>58</td>\n",
       "      <td>221</td>\n",
       "      <td>1879</td>\n",
       "      <td>4</td>\n",
       "      <td>8</td>\n",
       "      <td>NaN</td>\n",
       "      <td>NaN</td>\n",
       "      <td>Tennessee</td>\n",
       "      <td>College Stats</td>\n",
       "      <td>2000</td>\n",
       "    </tr>\n",
       "  </tbody>\n",
       "</table>\n",
       "<p>5 rows × 30 columns</p>\n",
       "</div>"
      ],
      "text/plain": [
       "   Rnd  Pick   Tm             Name Pos  Age    To  AP1  PB  St  ...   TD  Rec  \\\n",
       "0    1     1  CLE   Courtney Brown  DE   22  2005    0   0   4  ...  NaN  NaN   \n",
       "1    1     2  WAS  LaVar Arrington  LB   22  2006    0   3   5  ...  NaN  NaN   \n",
       "2    1     3  WAS    Chris Samuels   T   23  2009    0   6   9  ...  NaN  NaN   \n",
       "3    1     4  CIN    Peter Warrick  WR   23  2005    0   0   4  ...    2  275   \n",
       "4    1     5  BAL      Jamal Lewis  RB   21  2009    1   1   9  ...   58  221   \n",
       "\n",
       "    Yds  TD  Tkl  Int    Sk  College/Univ  College_Stats  year  \n",
       "0   NaN NaN  155  NaN  19.0      Penn St.  College Stats  2000  \n",
       "1   NaN NaN  331    3  23.5      Penn St.  College Stats  2000  \n",
       "2   NaN NaN    1  NaN   NaN       Alabama  College Stats  2000  \n",
       "3  2991  18   12  NaN   NaN   Florida St.  College Stats  2000  \n",
       "4  1879   4    8  NaN   NaN     Tennessee  College Stats  2000  \n",
       "\n",
       "[5 rows x 30 columns]"
      ]
     },
     "execution_count": 26,
     "metadata": {},
     "output_type": "execute_result"
    }
   ],
   "source": [
    "df.head()"
   ]
  },
  {
   "cell_type": "code",
   "execution_count": 27,
   "metadata": {
    "collapsed": false
   },
   "outputs": [
    {
     "data": {
      "text/plain": [
       "<matplotlib.axes._subplots.AxesSubplot at 0x11becc590>"
      ]
     },
     "execution_count": 27,
     "metadata": {},
     "output_type": "execute_result"
    },
    {
     "data": {
      "image/png": "[encoded data removed]",
      "text/plain": [
       "<matplotlib.figure.Figure at 0x11bec17d0>"
      ]
     },
     "metadata": {},
     "output_type": "display_data"
    }
   ],
   "source": [
    "sns.distplot(df.CarAV.dropna())"
   ]
  },
  {
   "cell_type": "code",
   "execution_count": 31,
   "metadata": {
    "collapsed": false
   },
   "outputs": [
    {
     "data": {
      "text/plain": [
       "(3709, 30)"
      ]
     },
     "execution_count": 31,
     "metadata": {},
     "output_type": "execute_result"
    }
   ],
   "source": [
    "df_clean = df[pd.notnull(df.CarAV)]\n",
    "df_clean.shape"
   ]
  },
  {
   "cell_type": "code",
   "execution_count": 47,
   "metadata": {
    "collapsed": false
   },
   "outputs": [],
   "source": [
    "top_10_pos = df_clean.Pos.value_counts()[:10].index\n",
    "df_pos = df_clean[df_clean.Pos.isin(top_10_pos)]"
   ]
  },
  {
   "cell_type": "code",
   "execution_count": 49,
   "metadata": {
    "collapsed": false
   },
   "outputs": [
    {
     "data": {
      "text/plain": [
       "(3415, 30)"
      ]
     },
     "execution_count": 49,
     "metadata": {},
     "output_type": "execute_result"
    }
   ],
   "source": [
    "df_pos.shape"
   ]
  },
  {
   "cell_type": "code",
   "execution_count": 55,
   "metadata": {
    "collapsed": false
   },
   "outputs": [
    {
     "data": {
      "image/png": "[encoded data removed]",
      "text/plain": [
       "<matplotlib.figure.Figure at 0x121342490>"
      ]
     },
     "metadata": {},
     "output_type": "display_data"
    }
   ],
   "source": [
    "g = sns.FacetGrid(df_pos, col=\"Pos\")\n",
    "g.map(plt.hist, \"CarAV\");"
   ]
  },
  {
   "cell_type": "code",
   "execution_count": 56,
   "metadata": {
    "collapsed": false
   },
   "outputs": [
    {
     "data": {
      "text/plain": [
       "Rnd\n",
       "1    34.477228\n",
       "2    22.810379\n",
       "3    15.054511\n",
       "4    12.107527\n",
       "5     8.713178\n",
       "6     7.211650\n",
       "7     6.280069\n",
       "Name: CarAV, dtype: float64"
      ]
     },
     "execution_count": 56,
     "metadata": {},
     "output_type": "execute_result"
    }
   ],
   "source": [
    "df_clean.groupby('Rnd').CarAV.mean()"
   ]
  },
  {
   "cell_type": "code",
   "execution_count": 69,
   "metadata": {
    "collapsed": false
   },
   "outputs": [],
   "source": [
    "pos_car = df_clean.groupby('Pos').CarAV.mean()"
   ]
  },
  {
   "cell_type": "code",
   "execution_count": 72,
   "metadata": {
    "collapsed": false
   },
   "outputs": [
    {
     "data": {
      "text/plain": [
       "Pos\n",
       "NT     22.222222\n",
       "T      21.215328\n",
       "C      20.228916\n",
       "QB     18.553571\n",
       "G      18.355330\n",
       "DE     17.868657\n",
       "LB     16.454139\n",
       "DT     15.182724\n",
       "RB     14.769231\n",
       "DB     13.488732\n",
       "WR     13.396552\n",
       "P      11.321429\n",
       "K      11.125000\n",
       "TE      8.654545\n",
       "FS      4.000000\n",
       "FB      3.075000\n",
       "ILB     2.818182\n",
       "OLB     2.388889\n",
       "SS      2.285714\n",
       "OL      2.194444\n",
       "CB      1.909091\n",
       "LS      1.000000\n",
       "DL      0.000000\n",
       "Name: CarAV, dtype: float64"
      ]
     },
     "execution_count": 72,
     "metadata": {},
     "output_type": "execute_result"
    }
   ],
   "source": [
    "pos_car.order(ascending=False)"
   ]
  },
  {
   "cell_type": "code",
   "execution_count": 81,
   "metadata": {
    "collapsed": false
   },
   "outputs": [
    {
     "data": {
      "text/html": [
       "<div style=\"max-height:1000px;max-width:1500px;overflow:auto;\">\n",
       "<table border=\"1\" class=\"dataframe\">\n",
       "  <thead>\n",
       "    <tr style=\"text-align: right;\">\n",
       "      <th></th>\n",
       "      <th>Name</th>\n",
       "      <th>Pos</th>\n",
       "      <th>Rnd</th>\n",
       "      <th>Pick</th>\n",
       "      <th>CarAV</th>\n",
       "    </tr>\n",
       "  </thead>\n",
       "  <tbody>\n",
       "    <tr>\n",
       "      <th>208</th>\n",
       "      <td>Tom Brady</td>\n",
       "      <td>QB</td>\n",
       "      <td>6</td>\n",
       "      <td>199</td>\n",
       "      <td>160</td>\n",
       "    </tr>\n",
       "    <tr>\n",
       "      <th>299</th>\n",
       "      <td>Drew Brees</td>\n",
       "      <td>QB</td>\n",
       "      <td>2</td>\n",
       "      <td>32</td>\n",
       "      <td>147</td>\n",
       "    </tr>\n",
       "    <tr>\n",
       "      <th>270</th>\n",
       "      <td>LaDainian Tomlinson</td>\n",
       "      <td>RB</td>\n",
       "      <td>1</td>\n",
       "      <td>5</td>\n",
       "      <td>128</td>\n",
       "    </tr>\n",
       "    <tr>\n",
       "      <th>522</th>\n",
       "      <td>Julius Peppers</td>\n",
       "      <td>DE</td>\n",
       "      <td>1</td>\n",
       "      <td>2</td>\n",
       "      <td>126</td>\n",
       "    </tr>\n",
       "    <tr>\n",
       "      <th>1071</th>\n",
       "      <td>Philip Rivers</td>\n",
       "      <td>QB</td>\n",
       "      <td>1</td>\n",
       "      <td>4</td>\n",
       "      <td>121</td>\n",
       "    </tr>\n",
       "    <tr>\n",
       "      <th>8</th>\n",
       "      <td>Brian Urlacher</td>\n",
       "      <td>LB</td>\n",
       "      <td>1</td>\n",
       "      <td>9</td>\n",
       "      <td>118</td>\n",
       "    </tr>\n",
       "    <tr>\n",
       "      <th>295</th>\n",
       "      <td>Reggie Wayne</td>\n",
       "      <td>WR</td>\n",
       "      <td>1</td>\n",
       "      <td>30</td>\n",
       "      <td>117</td>\n",
       "    </tr>\n",
       "    <tr>\n",
       "      <th>1355</th>\n",
       "      <td>Aaron Rodgers</td>\n",
       "      <td>QB</td>\n",
       "      <td>1</td>\n",
       "      <td>24</td>\n",
       "      <td>112</td>\n",
       "    </tr>\n",
       "    <tr>\n",
       "      <th>1078</th>\n",
       "      <td>Ben Roethlisberger</td>\n",
       "      <td>QB</td>\n",
       "      <td>1</td>\n",
       "      <td>11</td>\n",
       "      <td>108</td>\n",
       "    </tr>\n",
       "    <tr>\n",
       "      <th>544</th>\n",
       "      <td>Ed Reed</td>\n",
       "      <td>DB</td>\n",
       "      <td>1</td>\n",
       "      <td>24</td>\n",
       "      <td>106</td>\n",
       "    </tr>\n",
       "  </tbody>\n",
       "</table>\n",
       "</div>"
      ],
      "text/plain": [
       "                     Name Pos  Rnd  Pick  CarAV\n",
       "208             Tom Brady  QB    6   199    160\n",
       "299            Drew Brees  QB    2    32    147\n",
       "270   LaDainian Tomlinson  RB    1     5    128\n",
       "522        Julius Peppers  DE    1     2    126\n",
       "1071        Philip Rivers  QB    1     4    121\n",
       "8          Brian Urlacher  LB    1     9    118\n",
       "295          Reggie Wayne  WR    1    30    117\n",
       "1355        Aaron Rodgers  QB    1    24    112\n",
       "1078   Ben Roethlisberger  QB    1    11    108\n",
       "544               Ed Reed  DB    1    24    106"
      ]
     },
     "execution_count": 81,
     "metadata": {},
     "output_type": "execute_result"
    }
   ],
   "source": [
    "df_clean.sort(['CarAV'], ascending=False)[['Name', 'Pos', 'Rnd', 'Pick', 'CarAV']].head(10)"
   ]
  },
  {
   "cell_type": "code",
   "execution_count": 88,
   "metadata": {
    "collapsed": false
   },
   "outputs": [],
   "source": [
    "from sklearn.cross_validation import train_test_split\n",
    "\n",
    "df_prediction = df[['Pos', 'Rnd', 'Pick', 'CarAV']]\n",
    "df_prediction = df_prediction.dropna()\n",
    "features = ['Pos', 'Rnd', 'Pick']\n",
    "X = df_prediction[features]\n",
    "X = pd.get_dummies(X)\n",
    "y = df_prediction['CarAV']\n",
    "X_train, X_test, y_train, y_test = train_test_split(X, y, test_size=0.33, random_state=42)"
   ]
  },
  {
   "cell_type": "code",
   "execution_count": 94,
   "metadata": {
    "collapsed": false
   },
   "outputs": [
    {
     "name": "stdout",
     "output_type": "stream",
     "text": [
      "Test RMSE: 19.0394556784\n"
     ]
    }
   ],
   "source": [
    "from sklearn.ensemble import RandomForestRegressor\n",
    "import numpy as np\n",
    "from sklearn.metrics import mean_squared_error\n",
    "clf = RandomForestRegressor(n_estimators=100, n_jobs=-1)\n",
    "clf.fit(X_train, y_train)\n",
    "pred = clf.predict(X_test)\n",
    "print(\"Test RMSE: {0}\".format(np.sqrt(mean_squared_error(y_test, pred))))"
   ]
  },
  {
   "cell_type": "code",
   "execution_count": 95,
   "metadata": {
    "collapsed": false
   },
   "outputs": [
    {
     "data": {
      "text/plain": [
       "<matplotlib.axes._subplots.AxesSubplot at 0x12148b850>"
      ]
     },
     "execution_count": 95,
     "metadata": {},
     "output_type": "execute_result"
    },
    {
     "data": {
      "image/png": "[encoded data removed]",
      "text/plain": [
       "<matplotlib.figure.Figure at 0x12137da90>"
      ]
     },
     "metadata": {},
     "output_type": "display_data"
    }
   ],
   "source": [
    "sns.distplot(y_test - pred)"
   ]
  },
  {
   "cell_type": "code",
   "execution_count": 102,
   "metadata": {
    "collapsed": false
   },
   "outputs": [
    {
     "data": {
      "text/plain": [
       "[(u'Pick', 0.74057355030955418),\n",
       " (u'Pos_WR', 0.027251325026239556),\n",
       " (u'Pos_QB', 0.026284907953210087),\n",
       " (u'Rnd', 0.024608358747377927),\n",
       " (u'Pos_LB', 0.023325271548009431),\n",
       " (u'Pos_DB', 0.023244069808998812),\n",
       " (u'Pos_DE', 0.022416329004330184),\n",
       " (u'Pos_RB', 0.020809612266325495),\n",
       " (u'Pos_T', 0.019328648430449551),\n",
       " (u'Pos_DT', 0.016179252959674748),\n",
       " (u'Pos_G', 0.015783498291433298),\n",
       " (u'Pos_C', 0.010605214872418485),\n",
       " (u'Pos_TE', 0.0098016266470714788),\n",
       " (u'Pos_NT', 0.0061282718000366231),\n",
       " (u'Pos_CB', 0.0033879088823145376),\n",
       " (u'Pos_OLB', 0.0022238058553690535),\n",
       " (u'Pos_K', 0.0021160134638889883),\n",
       " (u'Pos_ILB', 0.0013145299160797032),\n",
       " (u'Pos_P', 0.0012959567575557965),\n",
       " (u'Pos_FB', 0.001160939197053856),\n",
       " (u'Pos_OL', 0.00097489972575304262),\n",
       " (u'Pos_SS', 0.00068067392576227556),\n",
       " (u'Pos_FS', 0.00043987713249530035),\n",
       " (u'Pos_LS', 3.2781030621886093e-05),\n",
       " (u'Pos_DL', 3.2676447975885517e-05)]"
      ]
     },
     "execution_count": 102,
     "metadata": {},
     "output_type": "execute_result"
    }
   ],
   "source": [
    "fi = zip(X.columns, clf.feature_importances_)\n",
    "fi = sorted(fi, key=lambda x:x[1], reverse=True)\n",
    "fi"
   ]
  },
  {
   "cell_type": "code",
   "execution_count": null,
   "metadata": {
    "collapsed": true
   },
   "outputs": [],
   "source": []
  }
 ],
 "metadata": {
  "kernelspec": {
   "display_name": "Python 2",
   "language": "python",
   "name": "python2"
  },
  "language_info": {
   "codemirror_mode": {
    "name": "ipython",
    "version": 2
   },
   "file_extension": ".py",
   "mimetype": "text/x-python",
   "name": "python",
   "nbconvert_exporter": "python",
   "pygments_lexer": "ipython2",
   "version": "2.7.11"
  }
 },
 "nbformat": 4,
 "nbformat_minor": 0
}
