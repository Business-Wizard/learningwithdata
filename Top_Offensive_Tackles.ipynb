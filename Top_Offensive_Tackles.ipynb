{
 "metadata": {
  "name": "",
  "signature": "sha256:614cbadc3b08721c8b31b6fd92ea54d05f6c41338ca08f09c70376fa4e9ddc99"
 },
 "nbformat": 3,
 "nbformat_minor": 0,
 "worksheets": [
  {
   "cells": [
    {
     "cell_type": "markdown",
     "metadata": {},
     "source": [
      "#Offensive Tackles in Football\n",
      "\n",
      "So I have a brother who is currently 16 and plays high school football as an offensive tackle. He is 6 feet 2 inches and weights 250 pounds. Now that is a big kid. His dream is to play professional football one day.\n",
      "\n",
      "The first step to playing professional football is to play college football for hopefully a good team. Not knowing much about what it takes to get recruited by a top college football team, I thought I would look for some data. Fortunately, ESPN has height and weight data on the [top 100 offensive tackles](http://espn.go.com/college-sports/football/recruiting/playerrankings/_/position/offensive-tackle/class/2015/view/position) being recruited out of high school. This little project will look at the height and weight of top recruited offensive tackles and how these values are associated with that player's rank.\n",
      "\n",
      "#Get and Clean the Data"
     ]
    },
    {
     "cell_type": "code",
     "collapsed": false,
     "input": [
      "from bs4 import BeautifulSoup\n",
      "import urllib2\n",
      "import pandas as pd\n",
      "from pandas import DataFrame, Series\n",
      "%matplotlib inline\n",
      "from __future__ import division\n",
      "from matplotlib import pyplot as plt\n",
      "import seaborn as sns\n",
      "sns.set(style='ticks', palette='Set2')\n",
      "import statsmodels.api as sm"
     ],
     "language": "python",
     "metadata": {},
     "outputs": [],
     "prompt_number": 17
    },
    {
     "cell_type": "markdown",
     "metadata": {},
     "source": [
      "Lets get the data from ESPN."
     ]
    },
    {
     "cell_type": "code",
     "collapsed": false,
     "input": [
      "html = urllib2.urlopen('http://espn.go.com/college-sports/football/recruiting/playerrankings/_/position/offensive-tackle/class/2015/view/position')\n",
      "text = html.read()\n",
      "soup = BeautifulSoup(text.replace('ISO-8859-1', 'utf-8'))"
     ],
     "language": "python",
     "metadata": {},
     "outputs": [],
     "prompt_number": 18
    },
    {
     "cell_type": "code",
     "collapsed": false,
     "input": [
      "ht_wgt = []\n",
      "for tr in soup.findAll('tr')[1:]:\n",
      "    tds = tr.findAll('td')\n",
      "    height = tds[4].text\n",
      "    weight = tds[5].text\n",
      "    grade = tds[7].text\n",
      "    ht_wgt.append([height, weight, grade])"
     ],
     "language": "python",
     "metadata": {},
     "outputs": [],
     "prompt_number": 19
    },
    {
     "cell_type": "markdown",
     "metadata": {},
     "source": [
      "A quick sanity check to make sure we got 100 players"
     ]
    },
    {
     "cell_type": "code",
     "collapsed": false,
     "input": [
      "#should have 100\n",
      "len(ht_wgt)"
     ],
     "language": "python",
     "metadata": {},
     "outputs": [
      {
       "metadata": {},
       "output_type": "pyout",
       "prompt_number": 20,
       "text": [
        "100"
       ]
      }
     ],
     "prompt_number": 20
    },
    {
     "cell_type": "markdown",
     "metadata": {},
     "source": [
      "Now lets drop our data into a Pandas data frame and take a look."
     ]
    },
    {
     "cell_type": "code",
     "collapsed": false,
     "input": [
      "data = DataFrame(ht_wgt, columns=['height', 'weight', 'grade'])\n",
      "data.head()"
     ],
     "language": "python",
     "metadata": {},
     "outputs": [
      {
       "html": [
        "<div style=\"max-height:1000px;max-width:1500px;overflow:auto;\">\n",
        "<table border=\"1\" class=\"dataframe\">\n",
        "  <thead>\n",
        "    <tr style=\"text-align: right;\">\n",
        "      <th></th>\n",
        "      <th>height</th>\n",
        "      <th>weight</th>\n",
        "      <th>grade</th>\n",
        "    </tr>\n",
        "  </thead>\n",
        "  <tbody>\n",
        "    <tr>\n",
        "      <th>0</th>\n",
        "      <td> 6'6''</td>\n",
        "      <td> 271</td>\n",
        "      <td> 93</td>\n",
        "    </tr>\n",
        "    <tr>\n",
        "      <th>1</th>\n",
        "      <td> 6'6''</td>\n",
        "      <td> 274</td>\n",
        "      <td> 90</td>\n",
        "    </tr>\n",
        "    <tr>\n",
        "      <th>2</th>\n",
        "      <td> 6'4''</td>\n",
        "      <td> 283</td>\n",
        "      <td> 89</td>\n",
        "    </tr>\n",
        "    <tr>\n",
        "      <th>3</th>\n",
        "      <td> 6'6''</td>\n",
        "      <td> 282</td>\n",
        "      <td> 86</td>\n",
        "    </tr>\n",
        "    <tr>\n",
        "      <th>4</th>\n",
        "      <td> 6'5''</td>\n",
        "      <td> 323</td>\n",
        "      <td> 84</td>\n",
        "    </tr>\n",
        "  </tbody>\n",
        "</table>\n",
        "</div>"
       ],
       "metadata": {},
       "output_type": "pyout",
       "prompt_number": 21,
       "text": [
        "  height weight grade\n",
        "0  6'6''    271    93\n",
        "1  6'6''    274    90\n",
        "2  6'4''    283    89\n",
        "3  6'6''    282    86\n",
        "4  6'5''    323    84"
       ]
      }
     ],
     "prompt_number": 21
    },
    {
     "cell_type": "markdown",
     "metadata": {},
     "source": [
      "Lets clean up the data to get the values as integers and convert the height to inches. I also created a mean zero grade just to bring the grades closer to zero."
     ]
    },
    {
     "cell_type": "code",
     "collapsed": false,
     "input": [
      "data['weight'] = data.weight.astype(int)\n",
      "data['grade'] = data.grade.astype(int)\n",
      "hgt_str = data.height.values\n",
      "hgt_str = [x.split(\"'\") for x in hgt_str]\n",
      "hgt_in = [(int(x[0]) * 12) + int(x[1]) for x in hgt_str]\n",
      "data['height_inches'] = hgt_in\n",
      "data['grade_meanzero'] = data.grade - data.grade.mean()\n",
      "data.head()"
     ],
     "language": "python",
     "metadata": {},
     "outputs": [
      {
       "html": [
        "<div style=\"max-height:1000px;max-width:1500px;overflow:auto;\">\n",
        "<table border=\"1\" class=\"dataframe\">\n",
        "  <thead>\n",
        "    <tr style=\"text-align: right;\">\n",
        "      <th></th>\n",
        "      <th>height</th>\n",
        "      <th>weight</th>\n",
        "      <th>grade</th>\n",
        "      <th>height_inches</th>\n",
        "      <th>grade_meanzero</th>\n",
        "    </tr>\n",
        "  </thead>\n",
        "  <tbody>\n",
        "    <tr>\n",
        "      <th>0</th>\n",
        "      <td> 6'6''</td>\n",
        "      <td> 271</td>\n",
        "      <td> 93</td>\n",
        "      <td> 78</td>\n",
        "      <td> 13.57</td>\n",
        "    </tr>\n",
        "    <tr>\n",
        "      <th>1</th>\n",
        "      <td> 6'6''</td>\n",
        "      <td> 274</td>\n",
        "      <td> 90</td>\n",
        "      <td> 78</td>\n",
        "      <td> 10.57</td>\n",
        "    </tr>\n",
        "    <tr>\n",
        "      <th>2</th>\n",
        "      <td> 6'4''</td>\n",
        "      <td> 283</td>\n",
        "      <td> 89</td>\n",
        "      <td> 76</td>\n",
        "      <td>  9.57</td>\n",
        "    </tr>\n",
        "    <tr>\n",
        "      <th>3</th>\n",
        "      <td> 6'6''</td>\n",
        "      <td> 282</td>\n",
        "      <td> 86</td>\n",
        "      <td> 78</td>\n",
        "      <td>  6.57</td>\n",
        "    </tr>\n",
        "    <tr>\n",
        "      <th>4</th>\n",
        "      <td> 6'5''</td>\n",
        "      <td> 323</td>\n",
        "      <td> 84</td>\n",
        "      <td> 77</td>\n",
        "      <td>  4.57</td>\n",
        "    </tr>\n",
        "  </tbody>\n",
        "</table>\n",
        "</div>"
       ],
       "metadata": {},
       "output_type": "pyout",
       "prompt_number": 22,
       "text": [
        "  height  weight  grade  height_inches  grade_meanzero\n",
        "0  6'6''     271     93             78           13.57\n",
        "1  6'6''     274     90             78           10.57\n",
        "2  6'4''     283     89             76            9.57\n",
        "3  6'6''     282     86             78            6.57\n",
        "4  6'5''     323     84             77            4.57"
       ]
      }
     ],
     "prompt_number": 22
    },
    {
     "cell_type": "markdown",
     "metadata": {},
     "source": [
      "#Make Some Plots\n",
      "\n",
      "Lets take a look at the distribution of height and weight and how that fits in with the ranking. Also, I will plot my brother on the plots to see how he stacks up."
     ]
    },
    {
     "cell_type": "code",
     "collapsed": false,
     "input": [
      "fig, ax = plt.subplots(3,1)\n",
      "fig.set_size_inches(8.5, 11)\n",
      "\n",
      "fig.suptitle('2015 ESPN Top 100 High School Offensive tackles',\n",
      "             fontsize=16, fontweight='bold')\n",
      "\n",
      "ax[0].hist(data.height_inches, bins = range(73,83), align='left')\n",
      "ax[0].set_xlabel('Height')\n",
      "ax[0].set_ylabel('Number of Players')\n",
      "ax[0].annotate('Average Height: {}'.format(data.height_inches.mean()), \n",
      "             xy=(.5, .5), xytext=(.70, .7),  \n",
      "             xycoords='axes fraction', textcoords='axes fraction')\n",
      "ax[0].plot([74, 74], [0,40])\n",
      "ax[0].set_xlim([72,82])\n",
      "ax[0].set_xticks(range(73,83))\n",
      "ax[0].annotate('My Brother', xy=(74, 20), xytext=(73, 25))\n",
      "\n",
      "ax[1].hist(data.weight)\n",
      "ax[1].set_xlabel('Weight in Pounds')\n",
      "ax[1].set_ylabel('Number of Players')\n",
      "ax[1].annotate('Average Weight: {}'.format(data.weight.mean()), \n",
      "             xy=(.5, .5), xytext=(.70, .7),  \n",
      "             xycoords='axes fraction', textcoords='axes fraction')\n",
      "ax[1].plot([250, 250], [0,30])\n",
      "ax[1].annotate('My Brother', xy=(250, 15), xytext=(236, 20))\n",
      "\n",
      "ax[2].scatter(data.height_inches, data.weight, s=data.grade_meanzero*15, alpha=.6)\n",
      "ax[2].set_title('Bigger Circle Means Better Rank')\n",
      "ax[2].set_xlabel('Height in Inches')\n",
      "ax[2].set_ylabel('Weight in Pounds')\n",
      "ax[2].set_xlim([72,82])\n",
      "ax[2].set_xticks(range(73,83))\n",
      "ax[2].scatter([74],[250], alpha=1, s=50, c=sns.color_palette(\"Set2\", 2)[1])\n",
      "ax[2].annotate('My Brother', xy=(74, 250), xytext=(73.5, 255))\n",
      "\n",
      "fig.tight_layout()\n",
      "plt.subplots_adjust(top=0.92)\n",
      "sns.despine()\n",
      "plt.savefig('Top100_OT.png')"
     ],
     "language": "python",
     "metadata": {},
     "outputs": [
      {
       "metadata": {},
       "output_type": "display_data",
       "png": "[encoded data removed]",
       "text": [
        "<matplotlib.figure.Figure at 0x1101fc090>"
       ]
      }
     ],
     "prompt_number": 23
    },
    {
     "cell_type": "markdown",
     "metadata": {},
     "source": [
      "#Analysis\n",
      "\n",
      "It looks like the sweet spot for height is between 76 and 78 inches. And it looks like taller players are getting a better rank; at least up to 78 inches. This makes some sense because you probably don't expect your players to grow much taller; you can more easily affect their weight gain if needed.\n",
      "\n",
      "This is a very simple and somewhat silly example of data analysis, but I like it. Using data I was able to gain a better understanding of an area in which I previously had no experience. Also, I was able to give my brother some sound advice that is grounded in data - grow taller!"
     ]
    }
   ],
   "metadata": {}
  }
 ]
}